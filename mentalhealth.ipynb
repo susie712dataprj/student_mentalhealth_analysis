{
 "cells": [
  {
   "cell_type": "code",
   "execution_count": null,
   "metadata": {},
   "outputs": [],
   "source": [
    "import sqlite3\n",
    "import pandas as pd\n",
    "\n",
    "df=pd.read_csv('/Users/susie/Documents/Proj SQL/SQL - MENTAL HEALTH/students.csv')"
   ]
  },
  {
   "cell_type": "code",
   "execution_count": 4,
   "metadata": {},
   "outputs": [],
   "source": [
    "conn=sqlite3.connect('/Users/susie/Documents/Proj SQL/mentalhealth.db',timeout=10)"
   ]
  },
  {
   "cell_type": "code",
   "execution_count": 5,
   "metadata": {},
   "outputs": [],
   "source": [
    "df.to_sql(name=\"students\", con=conn, if_exists='replace', index=False)\n",
    "\n",
    "conn.commit()"
   ]
  },
  {
   "cell_type": "code",
   "execution_count": 6,
   "metadata": {},
   "outputs": [
    {
     "data": {
      "text/html": [
       "<span style=\"None\">Connecting to &#x27;sqlite:///mentalhealth.db&#x27;</span>"
      ],
      "text/plain": [
       "Connecting to 'sqlite:///mentalhealth.db'"
      ]
     },
     "metadata": {},
     "output_type": "display_data"
    }
   ],
   "source": [
    "%load_ext sql\n",
    "%sql sqlite:///mentalhealth.db"
   ]
  },
  {
   "cell_type": "code",
   "execution_count": 41,
   "metadata": {},
   "outputs": [
    {
     "data": {
      "text/html": [
       "<span style=\"None\">Running query in &#x27;sqlite:///mentalhealth.db&#x27;</span>"
      ],
      "text/plain": [
       "Running query in 'sqlite:///mentalhealth.db'"
      ]
     },
     "metadata": {},
     "output_type": "display_data"
    },
    {
     "data": {
      "text/html": [
       "<table>\n",
       "    <thead>\n",
       "        <tr>\n",
       "            <th>inter_dom</th>\n",
       "            <th>region</th>\n",
       "            <th>gender</th>\n",
       "            <th>academic</th>\n",
       "            <th>age</th>\n",
       "            <th>age_cate</th>\n",
       "            <th>stay</th>\n",
       "            <th>stay_cate</th>\n",
       "            <th>japanese</th>\n",
       "            <th>japanese_cate</th>\n",
       "            <th>english</th>\n",
       "            <th>english_cate</th>\n",
       "            <th>intimate</th>\n",
       "            <th>religion</th>\n",
       "            <th>suicide</th>\n",
       "            <th>dep</th>\n",
       "            <th>deptype</th>\n",
       "            <th>todep</th>\n",
       "            <th>depsev</th>\n",
       "            <th>tosc</th>\n",
       "            <th>apd</th>\n",
       "            <th>ahome</th>\n",
       "            <th>aph</th>\n",
       "            <th>afear</th>\n",
       "            <th>acs</th>\n",
       "            <th>aguilt</th>\n",
       "            <th>amiscell</th>\n",
       "            <th>toas</th>\n",
       "            <th>partner</th>\n",
       "            <th>friends</th>\n",
       "            <th>parents</th>\n",
       "            <th>relative</th>\n",
       "            <th>profess</th>\n",
       "            <th> phone</th>\n",
       "            <th>doctor</th>\n",
       "            <th>reli</th>\n",
       "            <th>alone</th>\n",
       "            <th>others</th>\n",
       "            <th>internet</th>\n",
       "            <th>partner_bi</th>\n",
       "            <th>friends_bi</th>\n",
       "            <th>parents_bi</th>\n",
       "            <th>relative_bi</th>\n",
       "            <th>professional_bi</th>\n",
       "            <th>phone_bi</th>\n",
       "            <th>doctor_bi</th>\n",
       "            <th>religion_bi</th>\n",
       "            <th>alone_bi</th>\n",
       "            <th>others_bi</th>\n",
       "            <th>internet_bi</th>\n",
       "        </tr>\n",
       "    </thead>\n",
       "    <tbody>\n",
       "        <tr>\n",
       "            <td>Inter</td>\n",
       "            <td>SEA</td>\n",
       "            <td>Male</td>\n",
       "            <td>Grad</td>\n",
       "            <td>24.0</td>\n",
       "            <td>4.0</td>\n",
       "            <td>5.0</td>\n",
       "            <td>Long</td>\n",
       "            <td>3.0</td>\n",
       "            <td>Average</td>\n",
       "            <td>5.0</td>\n",
       "            <td>High</td>\n",
       "            <td>None</td>\n",
       "            <td>Yes</td>\n",
       "            <td>No</td>\n",
       "            <td>No</td>\n",
       "            <td>No</td>\n",
       "            <td>0.0</td>\n",
       "            <td>Min</td>\n",
       "            <td>34.0</td>\n",
       "            <td>23.0</td>\n",
       "            <td>9.0</td>\n",
       "            <td>11.0</td>\n",
       "            <td>8.0</td>\n",
       "            <td>11.0</td>\n",
       "            <td>2.0</td>\n",
       "            <td>27.0</td>\n",
       "            <td>91.0</td>\n",
       "            <td>5.0</td>\n",
       "            <td>5.0</td>\n",
       "            <td>6.0</td>\n",
       "            <td>3.0</td>\n",
       "            <td>2.0</td>\n",
       "            <td>1.0</td>\n",
       "            <td>4.0</td>\n",
       "            <td>1.0</td>\n",
       "            <td>3.0</td>\n",
       "            <td>4.0</td>\n",
       "            <td>None</td>\n",
       "            <td>Yes</td>\n",
       "            <td>Yes</td>\n",
       "            <td>Yes</td>\n",
       "            <td>No</td>\n",
       "            <td>No</td>\n",
       "            <td>No</td>\n",
       "            <td>No</td>\n",
       "            <td>No</td>\n",
       "            <td>No</td>\n",
       "            <td>No</td>\n",
       "            <td>No</td>\n",
       "        </tr>\n",
       "        <tr>\n",
       "            <td>Inter</td>\n",
       "            <td>SEA</td>\n",
       "            <td>Male</td>\n",
       "            <td>Grad</td>\n",
       "            <td>28.0</td>\n",
       "            <td>5.0</td>\n",
       "            <td>1.0</td>\n",
       "            <td>Short</td>\n",
       "            <td>4.0</td>\n",
       "            <td>High</td>\n",
       "            <td>4.0</td>\n",
       "            <td>High</td>\n",
       "            <td>None</td>\n",
       "            <td>No</td>\n",
       "            <td>No</td>\n",
       "            <td>No</td>\n",
       "            <td>No</td>\n",
       "            <td>2.0</td>\n",
       "            <td>Min</td>\n",
       "            <td>48.0</td>\n",
       "            <td>8.0</td>\n",
       "            <td>7.0</td>\n",
       "            <td>5.0</td>\n",
       "            <td>4.0</td>\n",
       "            <td>3.0</td>\n",
       "            <td>2.0</td>\n",
       "            <td>10.0</td>\n",
       "            <td>39.0</td>\n",
       "            <td>7.0</td>\n",
       "            <td>7.0</td>\n",
       "            <td>7.0</td>\n",
       "            <td>4.0</td>\n",
       "            <td>4.0</td>\n",
       "            <td>4.0</td>\n",
       "            <td>4.0</td>\n",
       "            <td>1.0</td>\n",
       "            <td>1.0</td>\n",
       "            <td>1.0</td>\n",
       "            <td>None</td>\n",
       "            <td>Yes</td>\n",
       "            <td>Yes</td>\n",
       "            <td>Yes</td>\n",
       "            <td>No</td>\n",
       "            <td>No</td>\n",
       "            <td>No</td>\n",
       "            <td>No</td>\n",
       "            <td>No</td>\n",
       "            <td>No</td>\n",
       "            <td>No</td>\n",
       "            <td>No</td>\n",
       "        </tr>\n",
       "        <tr>\n",
       "            <td>Inter</td>\n",
       "            <td>SEA</td>\n",
       "            <td>Male</td>\n",
       "            <td>Grad</td>\n",
       "            <td>25.0</td>\n",
       "            <td>4.0</td>\n",
       "            <td>6.0</td>\n",
       "            <td>Long</td>\n",
       "            <td>4.0</td>\n",
       "            <td>High</td>\n",
       "            <td>4.0</td>\n",
       "            <td>High</td>\n",
       "            <td>Yes</td>\n",
       "            <td>Yes</td>\n",
       "            <td>No</td>\n",
       "            <td>No</td>\n",
       "            <td>No</td>\n",
       "            <td>2.0</td>\n",
       "            <td>Min</td>\n",
       "            <td>41.0</td>\n",
       "            <td>13.0</td>\n",
       "            <td>4.0</td>\n",
       "            <td>7.0</td>\n",
       "            <td>6.0</td>\n",
       "            <td>4.0</td>\n",
       "            <td>3.0</td>\n",
       "            <td>14.0</td>\n",
       "            <td>51.0</td>\n",
       "            <td>3.0</td>\n",
       "            <td>3.0</td>\n",
       "            <td>3.0</td>\n",
       "            <td>1.0</td>\n",
       "            <td>1.0</td>\n",
       "            <td>2.0</td>\n",
       "            <td>1.0</td>\n",
       "            <td>1.0</td>\n",
       "            <td>1.0</td>\n",
       "            <td>1.0</td>\n",
       "            <td>None</td>\n",
       "            <td>No</td>\n",
       "            <td>No</td>\n",
       "            <td>No</td>\n",
       "            <td>No</td>\n",
       "            <td>No</td>\n",
       "            <td>No</td>\n",
       "            <td>No</td>\n",
       "            <td>No</td>\n",
       "            <td>No</td>\n",
       "            <td>No</td>\n",
       "            <td>No</td>\n",
       "        </tr>\n",
       "        <tr>\n",
       "            <td>Inter</td>\n",
       "            <td>EA</td>\n",
       "            <td>Female</td>\n",
       "            <td>Grad</td>\n",
       "            <td>29.0</td>\n",
       "            <td>5.0</td>\n",
       "            <td>1.0</td>\n",
       "            <td>Short</td>\n",
       "            <td>2.0</td>\n",
       "            <td>Low</td>\n",
       "            <td>3.0</td>\n",
       "            <td>Average</td>\n",
       "            <td>No</td>\n",
       "            <td>No</td>\n",
       "            <td>No</td>\n",
       "            <td>No</td>\n",
       "            <td>No</td>\n",
       "            <td>3.0</td>\n",
       "            <td>Min</td>\n",
       "            <td>37.0</td>\n",
       "            <td>16.0</td>\n",
       "            <td>10.0</td>\n",
       "            <td>10.0</td>\n",
       "            <td>8.0</td>\n",
       "            <td>6.0</td>\n",
       "            <td>4.0</td>\n",
       "            <td>21.0</td>\n",
       "            <td>75.0</td>\n",
       "            <td>5.0</td>\n",
       "            <td>5.0</td>\n",
       "            <td>5.0</td>\n",
       "            <td>5.0</td>\n",
       "            <td>5.0</td>\n",
       "            <td>2.0</td>\n",
       "            <td>2.0</td>\n",
       "            <td>2.0</td>\n",
       "            <td>4.0</td>\n",
       "            <td>4.0</td>\n",
       "            <td>None</td>\n",
       "            <td>Yes</td>\n",
       "            <td>Yes</td>\n",
       "            <td>Yes</td>\n",
       "            <td>Yes</td>\n",
       "            <td>Yes</td>\n",
       "            <td>No</td>\n",
       "            <td>No</td>\n",
       "            <td>No</td>\n",
       "            <td>No</td>\n",
       "            <td>No</td>\n",
       "            <td>No</td>\n",
       "        </tr>\n",
       "        <tr>\n",
       "            <td>Inter</td>\n",
       "            <td>EA</td>\n",
       "            <td>Female</td>\n",
       "            <td>Grad</td>\n",
       "            <td>28.0</td>\n",
       "            <td>5.0</td>\n",
       "            <td>1.0</td>\n",
       "            <td>Short</td>\n",
       "            <td>1.0</td>\n",
       "            <td>Low</td>\n",
       "            <td>3.0</td>\n",
       "            <td>Average</td>\n",
       "            <td>Yes</td>\n",
       "            <td>No</td>\n",
       "            <td>No</td>\n",
       "            <td>No</td>\n",
       "            <td>No</td>\n",
       "            <td>3.0</td>\n",
       "            <td>Min</td>\n",
       "            <td>37.0</td>\n",
       "            <td>15.0</td>\n",
       "            <td>12.0</td>\n",
       "            <td>5.0</td>\n",
       "            <td>8.0</td>\n",
       "            <td>7.0</td>\n",
       "            <td>4.0</td>\n",
       "            <td>31.0</td>\n",
       "            <td>82.0</td>\n",
       "            <td>5.0</td>\n",
       "            <td>5.0</td>\n",
       "            <td>5.0</td>\n",
       "            <td>2.0</td>\n",
       "            <td>5.0</td>\n",
       "            <td>2.0</td>\n",
       "            <td>5.0</td>\n",
       "            <td>5.0</td>\n",
       "            <td>4.0</td>\n",
       "            <td>4.0</td>\n",
       "            <td>None</td>\n",
       "            <td>Yes</td>\n",
       "            <td>Yes</td>\n",
       "            <td>Yes</td>\n",
       "            <td>No</td>\n",
       "            <td>Yes</td>\n",
       "            <td>No</td>\n",
       "            <td>Yes</td>\n",
       "            <td>Yes</td>\n",
       "            <td>No</td>\n",
       "            <td>No</td>\n",
       "            <td>No</td>\n",
       "        </tr>\n",
       "        <tr>\n",
       "            <td>Inter</td>\n",
       "            <td>SEA</td>\n",
       "            <td>Male</td>\n",
       "            <td>Grad</td>\n",
       "            <td>24.0</td>\n",
       "            <td>4.0</td>\n",
       "            <td>6.0</td>\n",
       "            <td>Long</td>\n",
       "            <td>3.0</td>\n",
       "            <td>Average</td>\n",
       "            <td>4.0</td>\n",
       "            <td>High</td>\n",
       "            <td>Yes</td>\n",
       "            <td>No</td>\n",
       "            <td>No</td>\n",
       "            <td>No</td>\n",
       "            <td>No</td>\n",
       "            <td>6.0</td>\n",
       "            <td>Mild</td>\n",
       "            <td>38.0</td>\n",
       "            <td>18.0</td>\n",
       "            <td>8.0</td>\n",
       "            <td>10.0</td>\n",
       "            <td>8.0</td>\n",
       "            <td>7.0</td>\n",
       "            <td>3.0</td>\n",
       "            <td>29.0</td>\n",
       "            <td>83.0</td>\n",
       "            <td>6.0</td>\n",
       "            <td>5.0</td>\n",
       "            <td>4.0</td>\n",
       "            <td>2.0</td>\n",
       "            <td>1.0</td>\n",
       "            <td>1.0</td>\n",
       "            <td>2.0</td>\n",
       "            <td>1.0</td>\n",
       "            <td>5.0</td>\n",
       "            <td>1.0</td>\n",
       "            <td>None</td>\n",
       "            <td>Yes</td>\n",
       "            <td>Yes</td>\n",
       "            <td>No</td>\n",
       "            <td>No</td>\n",
       "            <td>No</td>\n",
       "            <td>No</td>\n",
       "            <td>No</td>\n",
       "            <td>No</td>\n",
       "            <td>Yes</td>\n",
       "            <td>No</td>\n",
       "            <td>No</td>\n",
       "        </tr>\n",
       "        <tr>\n",
       "            <td>Inter</td>\n",
       "            <td>SA</td>\n",
       "            <td>Male</td>\n",
       "            <td>Grad</td>\n",
       "            <td>23.0</td>\n",
       "            <td>4.0</td>\n",
       "            <td>1.0</td>\n",
       "            <td>Short</td>\n",
       "            <td>3.0</td>\n",
       "            <td>Average</td>\n",
       "            <td>5.0</td>\n",
       "            <td>High</td>\n",
       "            <td>Yes</td>\n",
       "            <td>No</td>\n",
       "            <td>No</td>\n",
       "            <td>No</td>\n",
       "            <td>No</td>\n",
       "            <td>3.0</td>\n",
       "            <td>Min</td>\n",
       "            <td>46.0</td>\n",
       "            <td>17.0</td>\n",
       "            <td>6.0</td>\n",
       "            <td>10.0</td>\n",
       "            <td>5.0</td>\n",
       "            <td>3.0</td>\n",
       "            <td>2.0</td>\n",
       "            <td>15.0</td>\n",
       "            <td>58.0</td>\n",
       "            <td>7.0</td>\n",
       "            <td>5.0</td>\n",
       "            <td>7.0</td>\n",
       "            <td>2.0</td>\n",
       "            <td>2.0</td>\n",
       "            <td>1.0</td>\n",
       "            <td>5.0</td>\n",
       "            <td>1.0</td>\n",
       "            <td>1.0</td>\n",
       "            <td>1.0</td>\n",
       "            <td>None</td>\n",
       "            <td>Yes</td>\n",
       "            <td>Yes</td>\n",
       "            <td>Yes</td>\n",
       "            <td>No</td>\n",
       "            <td>No</td>\n",
       "            <td>No</td>\n",
       "            <td>Yes</td>\n",
       "            <td>No</td>\n",
       "            <td>No</td>\n",
       "            <td>No</td>\n",
       "            <td>No</td>\n",
       "        </tr>\n",
       "        <tr>\n",
       "            <td>Inter</td>\n",
       "            <td>SEA</td>\n",
       "            <td>Female</td>\n",
       "            <td>Grad</td>\n",
       "            <td>30.0</td>\n",
       "            <td>5.0</td>\n",
       "            <td>2.0</td>\n",
       "            <td>Medium</td>\n",
       "            <td>1.0</td>\n",
       "            <td>Low</td>\n",
       "            <td>1.0</td>\n",
       "            <td>Low</td>\n",
       "            <td>Yes</td>\n",
       "            <td>Yes</td>\n",
       "            <td>Yes</td>\n",
       "            <td>No</td>\n",
       "            <td>No</td>\n",
       "            <td>9.0</td>\n",
       "            <td>Mild</td>\n",
       "            <td>41.0</td>\n",
       "            <td>16.0</td>\n",
       "            <td>20.0</td>\n",
       "            <td>19.0</td>\n",
       "            <td>15.0</td>\n",
       "            <td>11.0</td>\n",
       "            <td>6.0</td>\n",
       "            <td>40.0</td>\n",
       "            <td>127.0</td>\n",
       "            <td>7.0</td>\n",
       "            <td>2.0</td>\n",
       "            <td>2.0</td>\n",
       "            <td>2.0</td>\n",
       "            <td>6.0</td>\n",
       "            <td>2.0</td>\n",
       "            <td>1.0</td>\n",
       "            <td>1.0</td>\n",
       "            <td>3.0</td>\n",
       "            <td>1.0</td>\n",
       "            <td>None</td>\n",
       "            <td>Yes</td>\n",
       "            <td>No</td>\n",
       "            <td>No</td>\n",
       "            <td>No</td>\n",
       "            <td>Yes</td>\n",
       "            <td>No</td>\n",
       "            <td>No</td>\n",
       "            <td>No</td>\n",
       "            <td>No</td>\n",
       "            <td>No</td>\n",
       "            <td>No</td>\n",
       "        </tr>\n",
       "        <tr>\n",
       "            <td>Inter</td>\n",
       "            <td>SEA</td>\n",
       "            <td>Female</td>\n",
       "            <td>Grad</td>\n",
       "            <td>25.0</td>\n",
       "            <td>4.0</td>\n",
       "            <td>4.0</td>\n",
       "            <td>Long</td>\n",
       "            <td>4.0</td>\n",
       "            <td>High</td>\n",
       "            <td>4.0</td>\n",
       "            <td>High</td>\n",
       "            <td>No</td>\n",
       "            <td>No</td>\n",
       "            <td>No</td>\n",
       "            <td>Yes</td>\n",
       "            <td>Other</td>\n",
       "            <td>7.0</td>\n",
       "            <td>Mild</td>\n",
       "            <td>36.0</td>\n",
       "            <td>22.0</td>\n",
       "            <td>12.0</td>\n",
       "            <td>13.0</td>\n",
       "            <td>13.0</td>\n",
       "            <td>10.0</td>\n",
       "            <td>6.0</td>\n",
       "            <td>33.0</td>\n",
       "            <td>109.0</td>\n",
       "            <td>4.0</td>\n",
       "            <td>4.0</td>\n",
       "            <td>4.0</td>\n",
       "            <td>4.0</td>\n",
       "            <td>4.0</td>\n",
       "            <td>4.0</td>\n",
       "            <td>4.0</td>\n",
       "            <td>4.0</td>\n",
       "            <td>4.0</td>\n",
       "            <td>4.0</td>\n",
       "            <td>None</td>\n",
       "            <td>No</td>\n",
       "            <td>No</td>\n",
       "            <td>No</td>\n",
       "            <td>No</td>\n",
       "            <td>No</td>\n",
       "            <td>No</td>\n",
       "            <td>No</td>\n",
       "            <td>No</td>\n",
       "            <td>No</td>\n",
       "            <td>No</td>\n",
       "            <td>No</td>\n",
       "        </tr>\n",
       "        <tr>\n",
       "            <td>Inter</td>\n",
       "            <td>Others</td>\n",
       "            <td>Male</td>\n",
       "            <td>Grad</td>\n",
       "            <td>31.0</td>\n",
       "            <td>5.0</td>\n",
       "            <td>2.0</td>\n",
       "            <td>Medium</td>\n",
       "            <td>1.0</td>\n",
       "            <td>Low</td>\n",
       "            <td>4.0</td>\n",
       "            <td>High</td>\n",
       "            <td>Yes</td>\n",
       "            <td>Yes</td>\n",
       "            <td>No</td>\n",
       "            <td>No</td>\n",
       "            <td>No</td>\n",
       "            <td>3.0</td>\n",
       "            <td>Min</td>\n",
       "            <td>48.0</td>\n",
       "            <td>8.0</td>\n",
       "            <td>4.0</td>\n",
       "            <td>5.0</td>\n",
       "            <td>12.0</td>\n",
       "            <td>3.0</td>\n",
       "            <td>2.0</td>\n",
       "            <td>17.0</td>\n",
       "            <td>51.0</td>\n",
       "            <td>1.0</td>\n",
       "            <td>1.0</td>\n",
       "            <td>1.0</td>\n",
       "            <td>2.0</td>\n",
       "            <td>1.0</td>\n",
       "            <td>1.0</td>\n",
       "            <td>2.0</td>\n",
       "            <td>1.0</td>\n",
       "            <td>2.0</td>\n",
       "            <td>1.0</td>\n",
       "            <td>None</td>\n",
       "            <td>No</td>\n",
       "            <td>No</td>\n",
       "            <td>No</td>\n",
       "            <td>No</td>\n",
       "            <td>No</td>\n",
       "            <td>No</td>\n",
       "            <td>No</td>\n",
       "            <td>No</td>\n",
       "            <td>No</td>\n",
       "            <td>No</td>\n",
       "            <td>No</td>\n",
       "        </tr>\n",
       "    </tbody>\n",
       "</table>\n",
       "<span style=\"font-style:italic;text-align:center;\">Truncated to <a href=\"https://jupysql.ploomber.io/en/latest/api/configuration.html#displaylimit\">displaylimit</a> of 10.</span>"
      ],
      "text/plain": [
       "+-----------+--------+--------+----------+------+----------+------+-----------+----------+---------------+---------+--------------+----------+----------+---------+-----+---------+-------+--------+------+------+-------+------+-------+------+--------+----------+-------+---------+---------+---------+----------+---------+--------+--------+------+-------+--------+----------+------------+------------+------------+-------------+-----------------+----------+-----------+-------------+----------+-----------+-------------+\n",
       "| inter_dom | region | gender | academic | age  | age_cate | stay | stay_cate | japanese | japanese_cate | english | english_cate | intimate | religion | suicide | dep | deptype | todep | depsev | tosc | apd  | ahome | aph  | afear | acs  | aguilt | amiscell |  toas | partner | friends | parents | relative | profess |  phone | doctor | reli | alone | others | internet | partner_bi | friends_bi | parents_bi | relative_bi | professional_bi | phone_bi | doctor_bi | religion_bi | alone_bi | others_bi | internet_bi |\n",
       "+-----------+--------+--------+----------+------+----------+------+-----------+----------+---------------+---------+--------------+----------+----------+---------+-----+---------+-------+--------+------+------+-------+------+-------+------+--------+----------+-------+---------+---------+---------+----------+---------+--------+--------+------+-------+--------+----------+------------+------------+------------+-------------+-----------------+----------+-----------+-------------+----------+-----------+-------------+\n",
       "|   Inter   |  SEA   |  Male  |   Grad   | 24.0 |   4.0    | 5.0  |    Long   |   3.0    |    Average    |   5.0   |     High     |   None   |   Yes    |    No   |  No |    No   |  0.0  |  Min   | 34.0 | 23.0 |  9.0  | 11.0 |  8.0  | 11.0 |  2.0   |   27.0   |  91.0 |   5.0   |   5.0   |   6.0   |   3.0    |   2.0   |  1.0   |  4.0   | 1.0  |  3.0  |  4.0   |   None   |    Yes     |    Yes     |    Yes     |      No     |        No       |    No    |     No    |      No     |    No    |     No    |      No     |\n",
       "|   Inter   |  SEA   |  Male  |   Grad   | 28.0 |   5.0    | 1.0  |   Short   |   4.0    |      High     |   4.0   |     High     |   None   |    No    |    No   |  No |    No   |  2.0  |  Min   | 48.0 | 8.0  |  7.0  | 5.0  |  4.0  | 3.0  |  2.0   |   10.0   |  39.0 |   7.0   |   7.0   |   7.0   |   4.0    |   4.0   |  4.0   |  4.0   | 1.0  |  1.0  |  1.0   |   None   |    Yes     |    Yes     |    Yes     |      No     |        No       |    No    |     No    |      No     |    No    |     No    |      No     |\n",
       "|   Inter   |  SEA   |  Male  |   Grad   | 25.0 |   4.0    | 6.0  |    Long   |   4.0    |      High     |   4.0   |     High     |   Yes    |   Yes    |    No   |  No |    No   |  2.0  |  Min   | 41.0 | 13.0 |  4.0  | 7.0  |  6.0  | 4.0  |  3.0   |   14.0   |  51.0 |   3.0   |   3.0   |   3.0   |   1.0    |   1.0   |  2.0   |  1.0   | 1.0  |  1.0  |  1.0   |   None   |     No     |     No     |     No     |      No     |        No       |    No    |     No    |      No     |    No    |     No    |      No     |\n",
       "|   Inter   |   EA   | Female |   Grad   | 29.0 |   5.0    | 1.0  |   Short   |   2.0    |      Low      |   3.0   |   Average    |    No    |    No    |    No   |  No |    No   |  3.0  |  Min   | 37.0 | 16.0 |  10.0 | 10.0 |  8.0  | 6.0  |  4.0   |   21.0   |  75.0 |   5.0   |   5.0   |   5.0   |   5.0    |   5.0   |  2.0   |  2.0   | 2.0  |  4.0  |  4.0   |   None   |    Yes     |    Yes     |    Yes     |     Yes     |       Yes       |    No    |     No    |      No     |    No    |     No    |      No     |\n",
       "|   Inter   |   EA   | Female |   Grad   | 28.0 |   5.0    | 1.0  |   Short   |   1.0    |      Low      |   3.0   |   Average    |   Yes    |    No    |    No   |  No |    No   |  3.0  |  Min   | 37.0 | 15.0 |  12.0 | 5.0  |  8.0  | 7.0  |  4.0   |   31.0   |  82.0 |   5.0   |   5.0   |   5.0   |   2.0    |   5.0   |  2.0   |  5.0   | 5.0  |  4.0  |  4.0   |   None   |    Yes     |    Yes     |    Yes     |      No     |       Yes       |    No    |    Yes    |     Yes     |    No    |     No    |      No     |\n",
       "|   Inter   |  SEA   |  Male  |   Grad   | 24.0 |   4.0    | 6.0  |    Long   |   3.0    |    Average    |   4.0   |     High     |   Yes    |    No    |    No   |  No |    No   |  6.0  |  Mild  | 38.0 | 18.0 |  8.0  | 10.0 |  8.0  | 7.0  |  3.0   |   29.0   |  83.0 |   6.0   |   5.0   |   4.0   |   2.0    |   1.0   |  1.0   |  2.0   | 1.0  |  5.0  |  1.0   |   None   |    Yes     |    Yes     |     No     |      No     |        No       |    No    |     No    |      No     |   Yes    |     No    |      No     |\n",
       "|   Inter   |   SA   |  Male  |   Grad   | 23.0 |   4.0    | 1.0  |   Short   |   3.0    |    Average    |   5.0   |     High     |   Yes    |    No    |    No   |  No |    No   |  3.0  |  Min   | 46.0 | 17.0 |  6.0  | 10.0 |  5.0  | 3.0  |  2.0   |   15.0   |  58.0 |   7.0   |   5.0   |   7.0   |   2.0    |   2.0   |  1.0   |  5.0   | 1.0  |  1.0  |  1.0   |   None   |    Yes     |    Yes     |    Yes     |      No     |        No       |    No    |    Yes    |      No     |    No    |     No    |      No     |\n",
       "|   Inter   |  SEA   | Female |   Grad   | 30.0 |   5.0    | 2.0  |   Medium  |   1.0    |      Low      |   1.0   |     Low      |   Yes    |   Yes    |   Yes   |  No |    No   |  9.0  |  Mild  | 41.0 | 16.0 |  20.0 | 19.0 |  15.0 | 11.0 |  6.0   |   40.0   | 127.0 |   7.0   |   2.0   |   2.0   |   2.0    |   6.0   |  2.0   |  1.0   | 1.0  |  3.0  |  1.0   |   None   |    Yes     |     No     |     No     |      No     |       Yes       |    No    |     No    |      No     |    No    |     No    |      No     |\n",
       "|   Inter   |  SEA   | Female |   Grad   | 25.0 |   4.0    | 4.0  |    Long   |   4.0    |      High     |   4.0   |     High     |    No    |    No    |    No   | Yes |  Other  |  7.0  |  Mild  | 36.0 | 22.0 |  12.0 | 13.0 |  13.0 | 10.0 |  6.0   |   33.0   | 109.0 |   4.0   |   4.0   |   4.0   |   4.0    |   4.0   |  4.0   |  4.0   | 4.0  |  4.0  |  4.0   |   None   |     No     |     No     |     No     |      No     |        No       |    No    |     No    |      No     |    No    |     No    |      No     |\n",
       "|   Inter   | Others |  Male  |   Grad   | 31.0 |   5.0    | 2.0  |   Medium  |   1.0    |      Low      |   4.0   |     High     |   Yes    |   Yes    |    No   |  No |    No   |  3.0  |  Min   | 48.0 | 8.0  |  4.0  | 5.0  |  12.0 | 3.0  |  2.0   |   17.0   |  51.0 |   1.0   |   1.0   |   1.0   |   2.0    |   1.0   |  1.0   |  2.0   | 1.0  |  2.0  |  1.0   |   None   |     No     |     No     |     No     |      No     |        No       |    No    |     No    |      No     |    No    |     No    |      No     |\n",
       "+-----------+--------+--------+----------+------+----------+------+-----------+----------+---------------+---------+--------------+----------+----------+---------+-----+---------+-------+--------+------+------+-------+------+-------+------+--------+----------+-------+---------+---------+---------+----------+---------+--------+--------+------+-------+--------+----------+------------+------------+------------+-------------+-----------------+----------+-----------+-------------+----------+-----------+-------------+\n",
       "Truncated to displaylimit of 10."
      ]
     },
     "execution_count": 41,
     "metadata": {},
     "output_type": "execute_result"
    }
   ],
   "source": [
    "%%sql\n",
    "select *\n",
    "from students"
   ]
  },
  {
   "cell_type": "code",
   "execution_count": 8,
   "metadata": {},
   "outputs": [
    {
     "data": {
      "text/html": [
       "<span style=\"None\">Running query in &#x27;sqlite:///mentalhealth.db&#x27;</span>"
      ],
      "text/plain": [
       "Running query in 'sqlite:///mentalhealth.db'"
      ]
     },
     "metadata": {},
     "output_type": "display_data"
    },
    {
     "data": {
      "text/html": [
       "<table>\n",
       "    <thead>\n",
       "        <tr>\n",
       "            <th>count(*)</th>\n",
       "        </tr>\n",
       "    </thead>\n",
       "    <tbody>\n",
       "        <tr>\n",
       "            <td>18</td>\n",
       "        </tr>\n",
       "    </tbody>\n",
       "</table>"
      ],
      "text/plain": [
       "+----------+\n",
       "| count(*) |\n",
       "+----------+\n",
       "|    18    |\n",
       "+----------+"
      ]
     },
     "execution_count": 8,
     "metadata": {},
     "output_type": "execute_result"
    }
   ],
   "source": [
    "%%sql\n",
    "-- Cleaning null values\n",
    "select count(*) from students\n",
    "where region is NULL;"
   ]
  },
  {
   "cell_type": "code",
   "execution_count": 9,
   "metadata": {},
   "outputs": [
    {
     "data": {
      "text/html": [
       "<span style=\"None\">Running query in &#x27;sqlite:///mentalhealth.db&#x27;</span>"
      ],
      "text/plain": [
       "Running query in 'sqlite:///mentalhealth.db'"
      ]
     },
     "metadata": {},
     "output_type": "display_data"
    },
    {
     "data": {
      "text/html": [
       "<span style=\"color: green\">18 rows affected.</span>"
      ],
      "text/plain": [
       "18 rows affected."
      ]
     },
     "metadata": {},
     "output_type": "display_data"
    },
    {
     "data": {
      "text/html": [
       "<table>\n",
       "    <thead>\n",
       "        <tr>\n",
       "        </tr>\n",
       "    </thead>\n",
       "    <tbody>\n",
       "    </tbody>\n",
       "</table>"
      ],
      "text/plain": [
       "++\n",
       "||\n",
       "++\n",
       "++"
      ]
     },
     "execution_count": 9,
     "metadata": {},
     "output_type": "execute_result"
    }
   ],
   "source": [
    "%%sql\n",
    "-- delete all data rows where region=null\n",
    "delete from students\n",
    "where region is NULL;"
   ]
  },
  {
   "cell_type": "code",
   "execution_count": 8,
   "metadata": {},
   "outputs": [
    {
     "ename": "SyntaxError",
     "evalue": "invalid syntax (<ipython-input-8-d58b1fa45740>, line 1)",
     "output_type": "error",
     "traceback": [
      "\u001b[0;36m  Cell \u001b[0;32mIn[8], line 1\u001b[0;36m\u001b[0m\n\u001b[0;31m    .load /Users/susie/Downloads/sqlean-macos-arm64/stats.dylib\u001b[0m\n\u001b[0m    ^\u001b[0m\n\u001b[0;31mSyntaxError\u001b[0m\u001b[0;31m:\u001b[0m invalid syntax\n"
     ]
    }
   ],
   "source": [
    ".load /Users/susie/Downloads/sqlean-macos-arm64/stats.dylib"
   ]
  },
  {
   "cell_type": "code",
   "execution_count": null,
   "metadata": {},
   "outputs": [
    {
     "data": {
      "text/html": [
       "<span style=\"None\">Running query in &#x27;sqlite:///mentalhealth.db&#x27;</span>"
      ],
      "text/plain": [
       "Running query in 'sqlite:///mentalhealth.db'"
      ]
     },
     "metadata": {},
     "output_type": "display_data"
    },
    {
     "data": {
      "text/html": [
       "<table>\n",
       "    <thead>\n",
       "        <tr>\n",
       "            <th>region</th>\n",
       "            <th>no_student</th>\n",
       "            <th>avg_age</th>\n",
       "            <th>avg_stay</th>\n",
       "        </tr>\n",
       "    </thead>\n",
       "    <tbody>\n",
       "        <tr>\n",
       "            <td>EA</td>\n",
       "            <td>48</td>\n",
       "            <td>21.06</td>\n",
       "            <td>1.83</td>\n",
       "        </tr>\n",
       "        <tr>\n",
       "            <td>JAP</td>\n",
       "            <td>69</td>\n",
       "            <td>20.39</td>\n",
       "            <td>2.49</td>\n",
       "        </tr>\n",
       "        <tr>\n",
       "            <td>Others</td>\n",
       "            <td>11</td>\n",
       "            <td>24.45</td>\n",
       "            <td>2.18</td>\n",
       "        </tr>\n",
       "        <tr>\n",
       "            <td>SA</td>\n",
       "            <td>18</td>\n",
       "            <td>22.83</td>\n",
       "            <td>1.94</td>\n",
       "        </tr>\n",
       "        <tr>\n",
       "            <td>SEA</td>\n",
       "            <td>122</td>\n",
       "            <td>20.46</td>\n",
       "            <td>2.11</td>\n",
       "        </tr>\n",
       "    </tbody>\n",
       "</table>"
      ],
      "text/plain": [
       "+--------+------------+---------+----------+\n",
       "| region | no_student | avg_age | avg_stay |\n",
       "+--------+------------+---------+----------+\n",
       "|   EA   |     48     |  21.06  |   1.83   |\n",
       "|  JAP   |     69     |  20.39  |   2.49   |\n",
       "| Others |     11     |  24.45  |   2.18   |\n",
       "|   SA   |     18     |  22.83  |   1.94   |\n",
       "|  SEA   |    122     |  20.46  |   2.11   |\n",
       "+--------+------------+---------+----------+"
      ]
     },
     "execution_count": 124,
     "metadata": {},
     "output_type": "execute_result"
    }
   ],
   "source": [
    "%%sql\n",
    "-- age and stay distribution for each region\n",
    "\n",
    "select\n",
    "    region, \n",
    "    count(*) as no_student,\n",
    "    round(avg(age),2) as avg_age,\n",
    "    round(avg(stay),2) as avg_stay\n",
    "from students\n",
    "group by region;"
   ]
  },
  {
   "cell_type": "code",
   "execution_count": null,
   "metadata": {},
   "outputs": [
    {
     "name": "stdout",
     "output_type": "stream",
     "text": [
      "18\n"
     ]
    }
   ],
   "source": [
    "df=pd.read_csv('/Users/susie/Documents/Proj SQL/SQL - MENTAL HEALTH/students.csv')"
   ]
  },
  {
   "cell_type": "code",
   "execution_count": null,
   "metadata": {},
   "outputs": [
    {
     "name": "stdout",
     "output_type": "stream",
     "text": [
      "0\n"
     ]
    }
   ],
   "source": [
    "#count how many null values in age\n",
    "print(df['age'].isnull().sum())\n",
    "\n",
    "#delete null value in age column\n",
    "df = df.dropna(subset=['age'])"
   ]
  },
  {
   "cell_type": "code",
   "execution_count": null,
   "metadata": {},
   "outputs": [
    {
     "name": "stdout",
     "output_type": "stream",
     "text": [
      "        10th Percentile  25th Percentile  50th Percentile  75th Percentile  \\\n",
      "region                                                                       \n",
      "EA                 18.0             19.0             20.5             22.0   \n",
      "JAP                18.0             19.0             20.0             21.0   \n",
      "Others             20.0             20.5             23.0             28.5   \n",
      "SA                 20.7             21.0             23.0             24.0   \n",
      "SEA                18.0             19.0             20.0             21.0   \n",
      "\n",
      "        90th Percentile  \n",
      "region                   \n",
      "EA                 23.3  \n",
      "JAP                22.0  \n",
      "Others             30.0  \n",
      "SA                 25.0  \n",
      "SEA                23.9  \n"
     ]
    },
    {
     "name": "stderr",
     "output_type": "stream",
     "text": [
      "<ipython-input-48-b8298600dfaf>:11: DeprecationWarning: DataFrameGroupBy.apply operated on the grouping columns. This behavior is deprecated, and in a future version of pandas the grouping columns will be excluded from the operation. Either pass `include_groups=False` to exclude the groupings or explicitly select the grouping columns after groupby to silence this warning.\n",
      "  percentile_results = df.groupby('region').apply(calculate_percentiles)\n"
     ]
    }
   ],
   "source": [
    "import numpy as np\n",
    "\n",
    "# Define the percentiles to calculate\n",
    "percentiles = [10, 25, 50, 75, 90]\n",
    "\n",
    "def calculate_percentiles(group):\n",
    "    results = {f\"{p}th Percentile\": np.percentile(group['age'], p) for p in percentiles}\n",
    "    return pd.Series(results)\n",
    "\n",
    "# Group by 'region' and apply the function\n",
    "percentile_results = df.groupby('region').apply(calculate_percentiles)\n",
    "\n",
    "# Display the results\n",
    "print(percentile_results)\n"
   ]
  },
  {
   "cell_type": "code",
   "execution_count": null,
   "metadata": {},
   "outputs": [
    {
     "name": "stdout",
     "output_type": "stream",
     "text": [
      "Collecting seaborn\n",
      "  Downloading seaborn-0.13.2-py3-none-any.whl (294 kB)\n",
      "\u001b[2K     \u001b[90m━━━━━━━━━━━━━━━━━━━━━━━━━━━━━━━━━━━━━\u001b[0m \u001b[32m294.9/294.9 kB\u001b[0m \u001b[31m939.0 kB/s\u001b[0m eta \u001b[36m0:00:00\u001b[0ma \u001b[36m0:00:01\u001b[0m\n",
      "\u001b[?25hRequirement already satisfied: numpy!=1.24.0,>=1.20 in /Library/Frameworks/Python.framework/Versions/3.11/lib/python3.11/site-packages (from seaborn) (1.25.2)\n",
      "Requirement already satisfied: pandas>=1.2 in /Library/Frameworks/Python.framework/Versions/3.11/lib/python3.11/site-packages (from seaborn) (2.2.3)\n",
      "Requirement already satisfied: matplotlib!=3.6.1,>=3.4 in /Library/Frameworks/Python.framework/Versions/3.11/lib/python3.11/site-packages (from seaborn) (3.9.2)\n",
      "Requirement already satisfied: contourpy>=1.0.1 in /Library/Frameworks/Python.framework/Versions/3.11/lib/python3.11/site-packages (from matplotlib!=3.6.1,>=3.4->seaborn) (1.3.1)\n",
      "Requirement already satisfied: cycler>=0.10 in /Library/Frameworks/Python.framework/Versions/3.11/lib/python3.11/site-packages (from matplotlib!=3.6.1,>=3.4->seaborn) (0.12.1)\n",
      "Requirement already satisfied: fonttools>=4.22.0 in /Library/Frameworks/Python.framework/Versions/3.11/lib/python3.11/site-packages (from matplotlib!=3.6.1,>=3.4->seaborn) (4.55.0)\n",
      "Requirement already satisfied: kiwisolver>=1.3.1 in /Library/Frameworks/Python.framework/Versions/3.11/lib/python3.11/site-packages (from matplotlib!=3.6.1,>=3.4->seaborn) (1.4.7)\n",
      "Requirement already satisfied: packaging>=20.0 in /Users/susie/Library/Python/3.11/lib/python/site-packages (from matplotlib!=3.6.1,>=3.4->seaborn) (23.2)\n",
      "Requirement already satisfied: pillow>=8 in /Library/Frameworks/Python.framework/Versions/3.11/lib/python3.11/site-packages (from matplotlib!=3.6.1,>=3.4->seaborn) (11.0.0)\n",
      "Requirement already satisfied: pyparsing>=2.3.1 in /Library/Frameworks/Python.framework/Versions/3.11/lib/python3.11/site-packages (from matplotlib!=3.6.1,>=3.4->seaborn) (3.2.0)\n",
      "Requirement already satisfied: python-dateutil>=2.7 in /Users/susie/Library/Python/3.11/lib/python/site-packages (from matplotlib!=3.6.1,>=3.4->seaborn) (2.8.2)\n",
      "Requirement already satisfied: pytz>=2020.1 in /Library/Frameworks/Python.framework/Versions/3.11/lib/python3.11/site-packages (from pandas>=1.2->seaborn) (2024.2)\n",
      "Requirement already satisfied: tzdata>=2022.7 in /Library/Frameworks/Python.framework/Versions/3.11/lib/python3.11/site-packages (from pandas>=1.2->seaborn) (2024.2)\n",
      "Requirement already satisfied: six>=1.5 in /Users/susie/Library/Python/3.11/lib/python/site-packages (from python-dateutil>=2.7->matplotlib!=3.6.1,>=3.4->seaborn) (1.16.0)\n",
      "Installing collected packages: seaborn\n",
      "Successfully installed seaborn-0.13.2\n",
      "\n",
      "\u001b[1m[\u001b[0m\u001b[34;49mnotice\u001b[0m\u001b[1;39;49m]\u001b[0m\u001b[39;49m A new release of pip is available: \u001b[0m\u001b[31;49m23.1.2\u001b[0m\u001b[39;49m -> \u001b[0m\u001b[32;49m24.3.1\u001b[0m\n",
      "\u001b[1m[\u001b[0m\u001b[34;49mnotice\u001b[0m\u001b[1;39;49m]\u001b[0m\u001b[39;49m To update, run: \u001b[0m\u001b[32;49mpip3 install --upgrade pip\u001b[0m\n",
      "Note: you may need to restart the kernel to use updated packages.\n"
     ]
    }
   ],
   "source": [
    "pip install seaborn"
   ]
  },
  {
   "cell_type": "code",
   "execution_count": 44,
   "metadata": {},
   "outputs": [
    {
     "name": "stderr",
     "output_type": "stream",
     "text": [
      "<ipython-input-44-4c9a3a15e060>:10: FutureWarning: \n",
      "\n",
      "Passing `palette` without assigning `hue` is deprecated and will be removed in v0.14.0. Assign the `x` variable to `hue` and set `legend=False` for the same effect.\n",
      "\n",
      "  sns.boxplot(x='region', y='age', data=df, palette='Set2')\n"
     ]
    },
    {
     "data": {
      "image/png": "[encoded data removed]",
      "text/plain": [
       "<Figure size 720x432 with 1 Axes>"
      ]
     },
     "metadata": {
      "needs_background": "light"
     },
     "output_type": "display_data"
    }
   ],
   "source": [
    "import pandas as pd\n",
    "import seaborn as sns\n",
    "import matplotlib.pyplot as plt\n",
    "\n",
    "# Filter the dataset for international students - optional\n",
    "# inter_students = df[df['inter_dom'] == 'Inter'] \n",
    "\n",
    "# Create the box plot\n",
    "plt.figure(figsize=(10, 6))\n",
    "sns.boxplot(x='region', y='age', data=df, palette='Set2')\n",
    "\n",
    "# Add title and labels\n",
    "plt.title('Age Distribution by Region', fontsize=16)\n",
    "plt.xlabel('Region', fontsize=14)\n",
    "plt.ylabel('Age', fontsize=14)\n",
    "\n",
    "# Display the plot\n",
    "plt.show()"
   ]
  },
  {
   "cell_type": "code",
   "execution_count": null,
   "metadata": {},
   "outputs": [
    {
     "name": "stdout",
     "output_type": "stream",
     "text": [
      "           25th Percentile  50th Percentile  75th Percentile\n",
      "inter_dom                                                   \n",
      "Dom                   31.5             39.0             47.0\n",
      "Inter                 31.0             40.0             45.0\n"
     ]
    },
    {
     "name": "stderr",
     "output_type": "stream",
     "text": [
      "<ipython-input-66-016c1e2c58e0>:13: DeprecationWarning: DataFrameGroupBy.apply operated on the grouping columns. This behavior is deprecated, and in a future version of pandas the grouping columns will be excluded from the operation. Either pass `include_groups=False` to exclude the groupings or explicitly select the grouping columns after groupby to silence this warning.\n",
      "  percentile_tosc = df.groupby('inter_dom').apply(calculate_percentiles)\n"
     ]
    }
   ],
   "source": [
    "#The ‘tosc’ field represents the total score of social connectedness (SCS test). The SCS test is a 20-item scale that assesses based on belonging, closeness, support, and satisfaction. To complete the SCS, individuals are asked to rate each item on a 6-point Likert scale, from 1 (strongly disagree) to 6 (strongly agree). The total score is calculated by summing the scores for all 20 items. Higher scores on the SCS indicate a greater sense of social connectedness (This excerpt was taken from the website below). https://scales.arabpsychology.com/s/social-connectedness-scale/ => HIGHER TOSC ARE GOOD AND VICE VERSA\n",
    "\n",
    "# categorizing tosc group by percentile analysis\n",
    "\n",
    "# Define the percentiles to calculate\n",
    "percentiles = [25, 50, 75]\n",
    "\n",
    "def calculate_percentiles(group):\n",
    "    results = {f\"{p}th Percentile\": np.percentile(group['tosc'], p) for p in percentiles}\n",
    "    return pd.Series(results)\n",
    "\n",
    "# Group by 'inter_dom' and apply the function\n",
    "percentile_tosc = df.groupby('inter_dom').apply(calculate_percentiles)\n",
    "\n",
    "# Display the results\n",
    "print(percentile_tosc)"
   ]
  },
  {
   "cell_type": "code",
   "execution_count": 22,
   "metadata": {},
   "outputs": [
    {
     "data": {
      "text/html": [
       "<span style=\"None\">displaylimit: Value None will be treated as 0 (no limit)</span>"
      ],
      "text/plain": [
       "displaylimit: Value None will be treated as 0 (no limit)"
      ]
     },
     "metadata": {},
     "output_type": "display_data"
    }
   ],
   "source": [
    "%config SqlMagic.displaylimit = None"
   ]
  },
  {
   "cell_type": "code",
   "execution_count": null,
   "metadata": {},
   "outputs": [
    {
     "data": {
      "text/html": [
       "<span style=\"None\">Running query in &#x27;sqlite:///mentalhealth.db&#x27;</span>"
      ],
      "text/plain": [
       "Running query in 'sqlite:///mentalhealth.db'"
      ]
     },
     "metadata": {},
     "output_type": "display_data"
    },
    {
     "data": {
      "text/html": [
       "<table>\n",
       "    <thead>\n",
       "        <tr>\n",
       "            <th>tosc_grp</th>\n",
       "            <th>depsev</th>\n",
       "            <th>no_student</th>\n",
       "        </tr>\n",
       "    </thead>\n",
       "    <tbody>\n",
       "        <tr>\n",
       "            <td>high_tosc</td>\n",
       "            <td>Mod</td>\n",
       "            <td>7</td>\n",
       "        </tr>\n",
       "        <tr>\n",
       "            <td>high_tosc</td>\n",
       "            <td>Min</td>\n",
       "            <td>23</td>\n",
       "        </tr>\n",
       "        <tr>\n",
       "            <td>high_tosc</td>\n",
       "            <td>Mild</td>\n",
       "            <td>8</td>\n",
       "        </tr>\n",
       "        <tr>\n",
       "            <td>low_tosc</td>\n",
       "            <td>Sev</td>\n",
       "            <td>4</td>\n",
       "        </tr>\n",
       "        <tr>\n",
       "            <td>low_tosc</td>\n",
       "            <td>ModSev</td>\n",
       "            <td>10</td>\n",
       "        </tr>\n",
       "        <tr>\n",
       "            <td>low_tosc</td>\n",
       "            <td>Mod</td>\n",
       "            <td>13</td>\n",
       "        </tr>\n",
       "        <tr>\n",
       "            <td>low_tosc</td>\n",
       "            <td>Min</td>\n",
       "            <td>2</td>\n",
       "        </tr>\n",
       "        <tr>\n",
       "            <td>low_tosc</td>\n",
       "            <td>Mild</td>\n",
       "            <td>13</td>\n",
       "        </tr>\n",
       "        <tr>\n",
       "            <td>moderate_tosc</td>\n",
       "            <td>Sev</td>\n",
       "            <td>1</td>\n",
       "        </tr>\n",
       "        <tr>\n",
       "            <td>moderate_tosc</td>\n",
       "            <td>ModSev</td>\n",
       "            <td>1</td>\n",
       "        </tr>\n",
       "        <tr>\n",
       "            <td>moderate_tosc</td>\n",
       "            <td>Mod</td>\n",
       "            <td>33</td>\n",
       "        </tr>\n",
       "        <tr>\n",
       "            <td>moderate_tosc</td>\n",
       "            <td>Min</td>\n",
       "            <td>26</td>\n",
       "        </tr>\n",
       "        <tr>\n",
       "            <td>moderate_tosc</td>\n",
       "            <td>Mild</td>\n",
       "            <td>60</td>\n",
       "        </tr>\n",
       "    </tbody>\n",
       "</table>"
      ],
      "text/plain": [
       "+---------------+--------+------------+\n",
       "|    tosc_grp   | depsev | no_student |\n",
       "+---------------+--------+------------+\n",
       "|   high_tosc   |  Mod   |     7      |\n",
       "|   high_tosc   |  Min   |     23     |\n",
       "|   high_tosc   |  Mild  |     8      |\n",
       "|    low_tosc   |  Sev   |     4      |\n",
       "|    low_tosc   | ModSev |     10     |\n",
       "|    low_tosc   |  Mod   |     13     |\n",
       "|    low_tosc   |  Min   |     2      |\n",
       "|    low_tosc   |  Mild  |     13     |\n",
       "| moderate_tosc |  Sev   |     1      |\n",
       "| moderate_tosc | ModSev |     1      |\n",
       "| moderate_tosc |  Mod   |     33     |\n",
       "| moderate_tosc |  Min   |     26     |\n",
       "| moderate_tosc |  Mild  |     60     |\n",
       "+---------------+--------+------------+"
      ]
     },
     "execution_count": 27,
     "metadata": {},
     "output_type": "execute_result"
    }
   ],
   "source": [
    "%%sql\n",
    "--> those who in low_csc group have more tendency to suicide (23/42) \n",
    "--> having low and mod csc score can result in mod to sev regarding depression severity \n",
    "\n",
    "SELECT \n",
    "    tosc_grp,\n",
    "    depsev,\n",
    "    COUNT(*) AS no_student\n",
    "FROM (\n",
    "    SELECT *,\n",
    "           CASE \n",
    "               WHEN tosc < 31 THEN 'low_tosc'\n",
    "               WHEN tosc >= 31 AND tosc < 47 THEN 'moderate_tosc'\n",
    "               ELSE 'high_tosc'\n",
    "           END AS tosc_grp\n",
    "    FROM students\n",
    ") AS categorized_students\n",
    "WHERE inter_dom = 'Inter'\n",
    "GROUP BY tosc_grp, depsev\n",
    "ORDER BY tosc_grp, depsev DESC"
   ]
  },
  {
   "cell_type": "code",
   "execution_count": null,
   "metadata": {},
   "outputs": [
    {
     "name": "stdout",
     "output_type": "stream",
     "text": [
      "Correlation between length of stay and age: 0.3022344286104206\n",
      "Correlation Matrix:\n",
      "           tosc     todep      toas\n",
      "tosc   1.000000 -0.551795 -0.555860\n",
      "todep -0.551795  1.000000  0.394095\n",
      "toas  -0.555860  0.394095  1.000000\n"
     ]
    },
    {
     "data": {
      "image/png": "[encoded data removed]",
      "text/plain": [
       "<Figure size 432x288 with 2 Axes>"
      ]
     },
     "metadata": {
      "needs_background": "light"
     },
     "output_type": "display_data"
    }
   ],
   "source": [
    "# correlation bw students’ language proficiency (japanese, english) and their mental health indicators?\n",
    "correlation = df['stay'].corr(df['age'])  \n",
    "print(f\"Correlation between length of stay and age: {correlation}\")\n",
    "\n",
    "# Correlation matric for 3 score\n",
    "mentalhealth_score = ['tosc', 'todep', 'toas']  \n",
    "correlation_matrix = df[mentalhealth_score].corr()\n",
    "\n",
    "# Display the correlation matrix\n",
    "print(\"Correlation Matrix:\")\n",
    "print(correlation_matrix)\n",
    "\n",
    "# Plot heatmap\n",
    "plt.figure(figsize=(6, 4))\n",
    "sns.heatmap(correlation_matrix, annot=True, cmap='coolwarm', fmt='.2f')\n",
    "plt.title('Correlation Matrix Heatmap')\n",
    "plt.show()"
   ]
  },
  {
   "cell_type": "code",
   "execution_count": 48,
   "metadata": {},
   "outputs": [
    {
     "name": "stdout",
     "output_type": "stream",
     "text": [
      "Correlation Matrix:\n",
      "               apd     ahome       aph     afear       acs    aguilt  \\\n",
      "apd       1.000000  0.371330  0.647512  0.572421  0.447805  0.310699   \n",
      "ahome     0.371330  1.000000  0.397227  0.435714  0.460867  0.412860   \n",
      "aph       0.647512  0.397227  1.000000  0.640884  0.466109  0.341833   \n",
      "afear     0.572421  0.435714  0.640884  1.000000  0.412650  0.430499   \n",
      "acs       0.447805  0.460867  0.466109  0.412650  1.000000  0.402508   \n",
      "aguilt    0.310699  0.412860  0.341833  0.430499  0.402508  1.000000   \n",
      "amiscell  0.578559  0.506480  0.546033  0.570425  0.646505  0.497840   \n",
      "toas      0.803785  0.665134  0.781058  0.759536  0.706895  0.573604   \n",
      "\n",
      "          amiscell      toas  \n",
      "apd       0.578559  0.803785  \n",
      "ahome     0.506480  0.665134  \n",
      "aph       0.546033  0.781058  \n",
      "afear     0.570425  0.759536  \n",
      "acs       0.646505  0.706895  \n",
      "aguilt    0.497840  0.573604  \n",
      "amiscell  1.000000  0.870102  \n",
      "toas      0.870102  1.000000  \n"
     ]
    },
    {
     "data": {
      "image/png": "[encoded data removed]",
      "text/plain": [
       "<Figure size 432x288 with 2 Axes>"
      ]
     },
     "metadata": {
      "needs_background": "light"
     },
     "output_type": "display_data"
    }
   ],
   "source": [
    "# Correlation matric for toas score\n",
    "toas_score = ['apd','ahome','aph','afear','acs','aguilt','amiscell','toas']  \n",
    "correlation_matrix = df[toas_score].corr()\n",
    "\n",
    "# Display the correlation matrix\n",
    "print(\"Correlation Matrix:\")\n",
    "print(correlation_matrix)\n",
    "\n",
    "# Plot heatmap\n",
    "plt.figure(figsize=(6, 4))\n",
    "sns.heatmap(correlation_matrix, annot=True, cmap='coolwarm', fmt='.2f')\n",
    "plt.title('Correlation Matrix TOAS Heatmap')\n",
    "plt.show()"
   ]
  },
  {
   "cell_type": "code",
   "execution_count": 47,
   "metadata": {},
   "outputs": [
    {
     "data": {
      "text/html": [
       "<span style=\"None\">Running query in &#x27;sqlite:///mentalhealth.db&#x27;</span>"
      ],
      "text/plain": [
       "Running query in 'sqlite:///mentalhealth.db'"
      ]
     },
     "metadata": {},
     "output_type": "display_data"
    },
    {
     "data": {
      "text/html": [
       "<table>\n",
       "    <thead>\n",
       "        <tr>\n",
       "            <th>stay</th>\n",
       "            <th>avg_phq</th>\n",
       "            <th>avg_as</th>\n",
       "            <th>avg_scs</th>\n",
       "        </tr>\n",
       "    </thead>\n",
       "    <tbody>\n",
       "        <tr>\n",
       "            <td>1.0</td>\n",
       "            <td>7.7</td>\n",
       "            <td>71.03</td>\n",
       "            <td>37.94</td>\n",
       "        </tr>\n",
       "        <tr>\n",
       "            <td>2.0</td>\n",
       "            <td>8.58</td>\n",
       "            <td>74.87</td>\n",
       "            <td>37.08</td>\n",
       "        </tr>\n",
       "        <tr>\n",
       "            <td>3.0</td>\n",
       "            <td>8.87</td>\n",
       "            <td>71.35</td>\n",
       "            <td>37.78</td>\n",
       "        </tr>\n",
       "        <tr>\n",
       "            <td>4.0</td>\n",
       "            <td>7.96</td>\n",
       "            <td>78.74</td>\n",
       "            <td>35.0</td>\n",
       "        </tr>\n",
       "        <tr>\n",
       "            <td>5.0</td>\n",
       "            <td>7.67</td>\n",
       "            <td>89.0</td>\n",
       "            <td>34.0</td>\n",
       "        </tr>\n",
       "        <tr>\n",
       "            <td>6.0</td>\n",
       "            <td>6.0</td>\n",
       "            <td>58.67</td>\n",
       "            <td>38.0</td>\n",
       "        </tr>\n",
       "        <tr>\n",
       "            <td>7.0</td>\n",
       "            <td>4.0</td>\n",
       "            <td>45.0</td>\n",
       "            <td>48.0</td>\n",
       "        </tr>\n",
       "        <tr>\n",
       "            <td>8.0</td>\n",
       "            <td>10.0</td>\n",
       "            <td>65.0</td>\n",
       "            <td>44.0</td>\n",
       "        </tr>\n",
       "        <tr>\n",
       "            <td>10.0</td>\n",
       "            <td>13.0</td>\n",
       "            <td>50.0</td>\n",
       "            <td>32.0</td>\n",
       "        </tr>\n",
       "    </tbody>\n",
       "</table>"
      ],
      "text/plain": [
       "+------+---------+--------+---------+\n",
       "| stay | avg_phq | avg_as | avg_scs |\n",
       "+------+---------+--------+---------+\n",
       "| 1.0  |   7.7   | 71.03  |  37.94  |\n",
       "| 2.0  |   8.58  | 74.87  |  37.08  |\n",
       "| 3.0  |   8.87  | 71.35  |  37.78  |\n",
       "| 4.0  |   7.96  | 78.74  |   35.0  |\n",
       "| 5.0  |   7.67  |  89.0  |   34.0  |\n",
       "| 6.0  |   6.0   | 58.67  |   38.0  |\n",
       "| 7.0  |   4.0   |  45.0  |   48.0  |\n",
       "| 8.0  |   10.0  |  65.0  |   44.0  |\n",
       "| 10.0 |   13.0  |  50.0  |   32.0  |\n",
       "+------+---------+--------+---------+"
      ]
     },
     "execution_count": 47,
     "metadata": {},
     "output_type": "execute_result"
    }
   ],
   "source": [
    "%%sql\n",
    "select\n",
    "    stay,\n",
    "    round(avg(todep),2) as avg_phq,\n",
    "    round(avg(toas),2) as avg_as,\n",
    "    round(avg(tosc),2) as avg_scs\n",
    "from students\n",
    "group by stay;"
   ]
  },
  {
   "cell_type": "code",
   "execution_count": null,
   "metadata": {},
   "outputs": [
    {
     "data": {
      "text/html": [
       "<span style=\"None\">Running query in &#x27;sqlite:///mentalhealth.db&#x27;</span>"
      ],
      "text/plain": [
       "Running query in 'sqlite:///mentalhealth.db'"
      ]
     },
     "metadata": {},
     "output_type": "display_data"
    },
    {
     "data": {
      "text/html": [
       "<table>\n",
       "    <thead>\n",
       "        <tr>\n",
       "            <th>suicide</th>\n",
       "            <th>count(*)/(select count(*) from students)*1</th>\n",
       "        </tr>\n",
       "    </thead>\n",
       "    <tbody>\n",
       "        <tr>\n",
       "            <td>No</td>\n",
       "            <td>0</td>\n",
       "        </tr>\n",
       "        <tr>\n",
       "            <td>Yes</td>\n",
       "            <td>0</td>\n",
       "        </tr>\n",
       "    </tbody>\n",
       "</table>"
      ],
      "text/plain": [
       "+---------+--------------------------------------------+\n",
       "| suicide | count(*)/(select count(*) from students)*1 |\n",
       "+---------+--------------------------------------------+\n",
       "|    No   |                     0                      |\n",
       "|   Yes   |                     0                      |\n",
       "+---------+--------------------------------------------+"
      ]
     },
     "execution_count": 80,
     "metadata": {},
     "output_type": "execute_result"
    }
   ],
   "source": [
    "%%sql\n",
    "-- percentage of suicide (mệt quá làm sau)\n",
    "select\n",
    "    suicide,\n",
    "    count(*)/(select count(*) from students)*1 \n",
    "from students\n",
    "group by suicide"
   ]
  },
  {
   "cell_type": "code",
   "execution_count": null,
   "metadata": {},
   "outputs": [],
   "source": []
  }
 ],
 "metadata": {
  "kernelspec": {
   "display_name": "Python 3",
   "language": "python",
   "name": "python3"
  },
  "language_info": {
   "codemirror_mode": {
    "name": "ipython",
    "version": 3
   },
   "file_extension": ".py",
   "mimetype": "text/x-python",
   "name": "python",
   "nbconvert_exporter": "python",
   "pygments_lexer": "ipython3",
   "version": "3.11.4"
  }
 },
 "nbformat": 4,
 "nbformat_minor": 2
}
